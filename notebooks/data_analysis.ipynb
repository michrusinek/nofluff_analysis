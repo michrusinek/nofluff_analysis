{
 "cells": [
  {
   "cell_type": "code",
   "execution_count": 1,
   "id": "f7eb0135",
   "metadata": {},
   "outputs": [],
   "source": [
    "import pandas as pd\n",
    "import matplotlib.pyplot as plt\n",
    "import numpy as np"
   ]
  },
  {
   "cell_type": "code",
   "execution_count": 2,
   "id": "aad813a8",
   "metadata": {},
   "outputs": [
    {
     "data": {
      "text/html": [
       "<div>\n",
       "<style scoped>\n",
       "    .dataframe tbody tr th:only-of-type {\n",
       "        vertical-align: middle;\n",
       "    }\n",
       "\n",
       "    .dataframe tbody tr th {\n",
       "        vertical-align: top;\n",
       "    }\n",
       "\n",
       "    .dataframe thead th {\n",
       "        text-align: right;\n",
       "    }\n",
       "</style>\n",
       "<table border=\"1\" class=\"dataframe\">\n",
       "  <thead>\n",
       "    <tr style=\"text-align: right;\">\n",
       "      <th></th>\n",
       "      <th>name</th>\n",
       "      <th>company</th>\n",
       "      <th>technology</th>\n",
       "      <th>job</th>\n",
       "      <th>location_city</th>\n",
       "      <th>location_country</th>\n",
       "      <th>salary_low</th>\n",
       "      <th>salary_high</th>\n",
       "      <th>salary_currency</th>\n",
       "      <th>salary_average</th>\n",
       "      <th>is_senior</th>\n",
       "    </tr>\n",
       "  </thead>\n",
       "  <tbody>\n",
       "    <tr>\n",
       "      <th>0</th>\n",
       "      <td>data scientist</td>\n",
       "      <td>Kontomatik Sp. z o.o.</td>\n",
       "      <td>python</td>\n",
       "      <td>data analyst</td>\n",
       "      <td>warszawa</td>\n",
       "      <td>POL</td>\n",
       "      <td>8 000</td>\n",
       "      <td>12 000</td>\n",
       "      <td>PLN</td>\n",
       "      <td>10000.0</td>\n",
       "      <td>False</td>\n",
       "    </tr>\n",
       "    <tr>\n",
       "      <th>1</th>\n",
       "      <td>data analyst</td>\n",
       "      <td>Ringier Axel Springer Tech</td>\n",
       "      <td>NaN</td>\n",
       "      <td>data analyst</td>\n",
       "      <td>zdalna</td>\n",
       "      <td>NaN</td>\n",
       "      <td>9 000</td>\n",
       "      <td>13 000</td>\n",
       "      <td>PLN</td>\n",
       "      <td>11000.0</td>\n",
       "      <td>False</td>\n",
       "    </tr>\n",
       "    <tr>\n",
       "      <th>2</th>\n",
       "      <td>senior data mining analyst</td>\n",
       "      <td>McKinsey &amp; Company</td>\n",
       "      <td>NaN</td>\n",
       "      <td>data analyst</td>\n",
       "      <td>wrocław</td>\n",
       "      <td>POL</td>\n",
       "      <td>9 000</td>\n",
       "      <td>14 000</td>\n",
       "      <td>PLN</td>\n",
       "      <td>11500.0</td>\n",
       "      <td>True</td>\n",
       "    </tr>\n",
       "    <tr>\n",
       "      <th>3</th>\n",
       "      <td>data analyst</td>\n",
       "      <td>Devire</td>\n",
       "      <td>NaN</td>\n",
       "      <td>data analyst</td>\n",
       "      <td>zdalna</td>\n",
       "      <td>NaN</td>\n",
       "      <td>8 000</td>\n",
       "      <td>16 000</td>\n",
       "      <td>PLN</td>\n",
       "      <td>12000.0</td>\n",
       "      <td>False</td>\n",
       "    </tr>\n",
       "    <tr>\n",
       "      <th>4</th>\n",
       "      <td>data analyst</td>\n",
       "      <td>Globitell Wholesale Sp. z o.o. Sp. K.</td>\n",
       "      <td>NaN</td>\n",
       "      <td>data analyst</td>\n",
       "      <td>warszawa</td>\n",
       "      <td>POL</td>\n",
       "      <td>6 000</td>\n",
       "      <td>9 000</td>\n",
       "      <td>PLN</td>\n",
       "      <td>7500.0</td>\n",
       "      <td>False</td>\n",
       "    </tr>\n",
       "    <tr>\n",
       "      <th>...</th>\n",
       "      <td>...</td>\n",
       "      <td>...</td>\n",
       "      <td>...</td>\n",
       "      <td>...</td>\n",
       "      <td>...</td>\n",
       "      <td>...</td>\n",
       "      <td>...</td>\n",
       "      <td>...</td>\n",
       "      <td>...</td>\n",
       "      <td>...</td>\n",
       "      <td>...</td>\n",
       "    </tr>\n",
       "    <tr>\n",
       "      <th>88</th>\n",
       "      <td>data scientist</td>\n",
       "      <td>Syncron Sp. z o.o.</td>\n",
       "      <td>python</td>\n",
       "      <td>data scientist</td>\n",
       "      <td>zdalna</td>\n",
       "      <td>NaN</td>\n",
       "      <td>15 700</td>\n",
       "      <td>18 800</td>\n",
       "      <td>PLN</td>\n",
       "      <td>17250.0</td>\n",
       "      <td>False</td>\n",
       "    </tr>\n",
       "    <tr>\n",
       "      <th>89</th>\n",
       "      <td>(senior) data scientist</td>\n",
       "      <td>Pearson</td>\n",
       "      <td>python</td>\n",
       "      <td>data scientist</td>\n",
       "      <td>poznań</td>\n",
       "      <td>POL</td>\n",
       "      <td>12 500</td>\n",
       "      <td>25 000</td>\n",
       "      <td>PLN</td>\n",
       "      <td>18750.0</td>\n",
       "      <td>True</td>\n",
       "    </tr>\n",
       "    <tr>\n",
       "      <th>90</th>\n",
       "      <td>mid data scientist</td>\n",
       "      <td>LAIT</td>\n",
       "      <td>python</td>\n",
       "      <td>data scientist</td>\n",
       "      <td>warszawa</td>\n",
       "      <td>POL</td>\n",
       "      <td>15 000</td>\n",
       "      <td>18 000</td>\n",
       "      <td>PLN</td>\n",
       "      <td>16500.0</td>\n",
       "      <td>False</td>\n",
       "    </tr>\n",
       "    <tr>\n",
       "      <th>91</th>\n",
       "      <td>data scientist</td>\n",
       "      <td>Onwelo S.A.</td>\n",
       "      <td>NaN</td>\n",
       "      <td>data scientist</td>\n",
       "      <td>zdalna</td>\n",
       "      <td>NaN</td>\n",
       "      <td>13 650</td>\n",
       "      <td>17 850</td>\n",
       "      <td>PLN</td>\n",
       "      <td>15750.0</td>\n",
       "      <td>False</td>\n",
       "    </tr>\n",
       "    <tr>\n",
       "      <th>92</th>\n",
       "      <td>senior data scientist</td>\n",
       "      <td>SEON Technologies Kft.</td>\n",
       "      <td>NaN</td>\n",
       "      <td>data scientist</td>\n",
       "      <td>budapest</td>\n",
       "      <td>HUN</td>\n",
       "      <td>14 606</td>\n",
       "      <td>19 051</td>\n",
       "      <td>PLN</td>\n",
       "      <td>16828.5</td>\n",
       "      <td>True</td>\n",
       "    </tr>\n",
       "  </tbody>\n",
       "</table>\n",
       "<p>93 rows × 11 columns</p>\n",
       "</div>"
      ],
      "text/plain": [
       "                          name                                company  \\\n",
       "0               data scientist                  Kontomatik Sp. z o.o.   \n",
       "1                 data analyst             Ringier Axel Springer Tech   \n",
       "2   senior data mining analyst                     McKinsey & Company   \n",
       "3                 data analyst                                 Devire   \n",
       "4                 data analyst  Globitell Wholesale Sp. z o.o. Sp. K.   \n",
       "..                         ...                                    ...   \n",
       "88              data scientist                     Syncron Sp. z o.o.   \n",
       "89     (senior) data scientist                                Pearson   \n",
       "90          mid data scientist                                   LAIT   \n",
       "91              data scientist                            Onwelo S.A.   \n",
       "92       senior data scientist                 SEON Technologies Kft.   \n",
       "\n",
       "   technology             job location_city location_country salary_low  \\\n",
       "0      python    data analyst      warszawa              POL      8 000   \n",
       "1         NaN    data analyst        zdalna              NaN      9 000   \n",
       "2         NaN    data analyst       wrocław              POL      9 000   \n",
       "3         NaN    data analyst        zdalna              NaN      8 000   \n",
       "4         NaN    data analyst      warszawa              POL      6 000   \n",
       "..        ...             ...           ...              ...        ...   \n",
       "88     python  data scientist        zdalna              NaN     15 700   \n",
       "89     python  data scientist        poznań              POL     12 500   \n",
       "90     python  data scientist      warszawa              POL     15 000   \n",
       "91        NaN  data scientist        zdalna              NaN     13 650   \n",
       "92        NaN  data scientist      budapest              HUN     14 606   \n",
       "\n",
       "   salary_high salary_currency  salary_average  is_senior  \n",
       "0       12 000             PLN         10000.0      False  \n",
       "1       13 000             PLN         11000.0      False  \n",
       "2       14 000             PLN         11500.0       True  \n",
       "3       16 000             PLN         12000.0      False  \n",
       "4        9 000             PLN          7500.0      False  \n",
       "..         ...             ...             ...        ...  \n",
       "88      18 800             PLN         17250.0      False  \n",
       "89      25 000             PLN         18750.0       True  \n",
       "90      18 000             PLN         16500.0      False  \n",
       "91      17 850             PLN         15750.0      False  \n",
       "92      19 051             PLN         16828.5       True  \n",
       "\n",
       "[93 rows x 11 columns]"
      ]
     },
     "execution_count": 2,
     "metadata": {},
     "output_type": "execute_result"
    }
   ],
   "source": [
    "df = pd.read_csv(\n",
    "    r'C:\\Users\\micha\\project\\data\\processed\\job_offers_14-11-2021.csv',\n",
    "    sep=';',\n",
    "    encoding='utf-8',\n",
    ")\n",
    "df"
   ]
  },
  {
   "cell_type": "code",
   "execution_count": 30,
   "id": "8b2d38e3",
   "metadata": {},
   "outputs": [
    {
     "data": {
      "text/plain": [
       "job\n",
       "data analyst      17\n",
       "data engineer     61\n",
       "data scientist    15\n",
       "dtype: int64"
      ]
     },
     "execution_count": 30,
     "metadata": {},
     "output_type": "execute_result"
    }
   ],
   "source": [
    "df.groupby(by='job').size()"
   ]
  },
  {
   "cell_type": "code",
   "execution_count": 34,
   "id": "d30dce12",
   "metadata": {},
   "outputs": [
    {
     "data": {
      "text/plain": [
       "Index(['data engineer', 'data analyst', 'data scientist'], dtype='object')"
      ]
     },
     "execution_count": 34,
     "metadata": {},
     "output_type": "execute_result"
    }
   ],
   "source": [
    "df['job'].value_counts().index"
   ]
  },
  {
   "cell_type": "code",
   "execution_count": 35,
   "id": "b4e5d580",
   "metadata": {},
   "outputs": [],
   "source": [
    "job_count = df['job'].value_counts()\n",
    "job_titles = df['job'].value_counts().index"
   ]
  },
  {
   "cell_type": "code",
   "execution_count": 109,
   "id": "6e0e7688",
   "metadata": {},
   "outputs": [
    {
     "data": {
      "image/png": "[encoded data removed]",
      "text/plain": [
       "<Figure size 720x720 with 1 Axes>"
      ]
     },
     "metadata": {
      "needs_background": "light"
     },
     "output_type": "display_data"
    }
   ],
   "source": [
    "# Number of jobs found for each search query\n",
    "\n",
    "plt.figure(figsize=(10, 10))\n",
    "\n",
    "plt.bar(job_titles, job_count)\n",
    "plt.title('Number of jobs found for each search query')\n",
    "\n",
    "for elem in range(len(job_titles)):\n",
    "    plt.text(elem, job_count[elem] + 1, job_count[elem], va='center', ha='center', size='large')\n",
    "\n",
    "plt.show()"
   ]
  },
  {
   "cell_type": "code",
   "execution_count": 126,
   "id": "2507401d",
   "metadata": {},
   "outputs": [
    {
     "data": {
      "image/png": "[encoded data removed]",
      "text/plain": [
       "<Figure size 720x720 with 1 Axes>"
      ]
     },
     "metadata": {
      "needs_background": "light"
     },
     "output_type": "display_data"
    }
   ],
   "source": [
    "# Average salary for each job title\n",
    "\n",
    "avg_salaries = {}\n",
    "\n",
    "for key in df_grouped.groups.keys():\n",
    "    avg_salaries[key] = round(df_grouped.get_group(key)['salary_average'].mean())\n",
    "\n",
    "plt.figure(figsize=(10, 10))\n",
    "plt.bar(avg_salaries.keys(), avg_salaries.values())\n",
    "plt.title('Average salary for each job title')\n",
    "\n",
    "for key, value in avg_salaries.items():\n",
    "    plt.text(key, value+200, value, va='center', ha='center', size='large')\n",
    "    \n",
    "plt.show()"
   ]
  },
  {
   "cell_type": "code",
   "execution_count": 138,
   "id": "7d88d312",
   "metadata": {},
   "outputs": [
    {
     "data": {
      "image/png": "[encoded data removed]",
      "text/plain": [
       "<Figure size 720x720 with 1 Axes>"
      ]
     },
     "metadata": {
      "needs_background": "light"
     },
     "output_type": "display_data"
    }
   ],
   "source": [
    "# Number of offers in each city (including remote work)\n",
    "\n",
    "offers_count = df['location_city'].value_counts()\n",
    "cities = df['location_city'].value_counts().index\n",
    "\n",
    "plt.figure(figsize=(10, 10))\n",
    "\n",
    "plt.bar(cities, offers_count)\n",
    "plt.title(r'Number of offers in each city (including remote work)')\n",
    "\n",
    "for elem in range(len(cities)):\n",
    "    plt.text(elem, offers_count[elem] + 1, offers_count[elem], va='center', ha='center', size='large')\n",
    "\n",
    "plt.show()"
   ]
  },
  {
   "cell_type": "code",
   "execution_count": 162,
   "id": "20ea234e",
   "metadata": {},
   "outputs": [
    {
     "data": {
      "image/png": "[encoded data removed]",
      "text/plain": [
       "<Figure size 1440x720 with 1 Axes>"
      ]
     },
     "metadata": {
      "needs_background": "light"
     },
     "output_type": "display_data"
    }
   ],
   "source": [
    "# Finding the highest salaries\n",
    "\n",
    "df_sorted = df.sort_values('salary_average', ascending=False)\n",
    "df_highest_salaries = df_sorted.head(10)\n",
    "companies = df_highest_salaries['company'].unique()\n",
    "salaries = df_highest_salaries['salary_average'].unique()\n",
    "\n",
    "plt.figure(figsize=(20, 10))\n",
    "\n",
    "plt.bar(companies, salaries, align='center', width=0.3)\n",
    "plt.title('10 highest salaries')\n",
    "\n",
    "for elem in range(salaries.shape[0]):\n",
    "    plt.text(companies[elem], salaries[elem]+500, salaries[elem], va='center', ha='center', size='large')\n",
    "\n",
    "plt.show()"
   ]
  },
  {
   "cell_type": "code",
   "execution_count": 133,
   "id": "8060d3e3",
   "metadata": {},
   "outputs": [
    {
     "data": {
      "image/png": "[encoded data removed]",
      "text/plain": [
       "<Figure size 1080x720 with 1 Axes>"
      ]
     },
     "metadata": {
      "needs_background": "light"
     },
     "output_type": "display_data"
    }
   ],
   "source": [
    "# Difference in salary between senior job titles and regular job titles in each job category\n",
    "\n",
    "df_grouped_by_job = df.groupby(['job', 'is_senior'])\n",
    "senior_avg_salaries = {}\n",
    "non_senior_avg_salaries = {}\n",
    "\n",
    "for (job, is_senior) in df_grouped_by_job.groups.keys():\n",
    "    if is_senior:\n",
    "        senior_avg_salaries[job] = df_grouped_by_job.get_group((job, is_senior))['salary_average'].mean()\n",
    "    else:\n",
    "        non_senior_avg_salaries[job] = df_grouped_by_job.get_group((job, is_senior))['salary_average'].mean()\n",
    "\n",
    "x = np.array(range(len(senior_avg_salaries.keys())))\n",
    "y_senior = np.array(list(senior_avg_salaries.values()))\n",
    "y_non_senior = np.array(list(non_senior_avg_salaries.values()))\n",
    "\n",
    "plt.figure(figsize=(15, 10))\n",
    "ax = plt.subplot(111)\n",
    "ax.bar(\n",
    "    x-0.1, \n",
    "    y_senior,\n",
    "    width = 0.2,\n",
    "    label='senior'\n",
    ")\n",
    "ax.bar(\n",
    "    x+0.1, \n",
    "    y_non_senior,\n",
    "    width = 0.2,\n",
    "    label='regular',\n",
    ")\n",
    "\n",
    "for i in range(len(senior_avg_salaries.keys())):\n",
    "    plt.text(i-0.1, y_senior[i]+200, round(y_senior[i]), va='center', ha='center')\n",
    "    plt.text(i+0.1, y_non_senior[i]+200, round(y_non_senior[i]), va='center', ha='center')\n",
    "\n",
    "plt.xticks(range(3), list(df['job'].unique()))\n",
    "plt.legend()\n",
    "plt.title('Difference in average salary between senior job titles and regular job titles in each job category')\n",
    "\n",
    "plt.show()"
   ]
  },
  {
   "cell_type": "code",
   "execution_count": 77,
   "id": "cb2b8468",
   "metadata": {},
   "outputs": [
    {
     "name": "stdout",
     "output_type": "stream",
     "text": [
      "Minimal cost of hiring a team consisting of data analyst, data engineer and data scientist: 20724.5\n"
     ]
    }
   ],
   "source": [
    "# Rounding up a team consisting of data analyst, data engineer and data scientist, while minimizng the cost of hiring them\n",
    "\n",
    "cost = df.groupby('job')['salary_average'].min().sum()\n",
    "\n",
    "print(f\"Minimal cost of hiring a team consisting of data analyst, data engineer and data scientist: {cost}\")"
   ]
  },
  {
   "cell_type": "code",
   "execution_count": 132,
   "id": "d4cb04cf",
   "metadata": {},
   "outputs": [
    {
     "name": "stdout",
     "output_type": "stream",
     "text": [
      "The cost of hiring the whole team in warszawa: 21350.0\n"
     ]
    }
   ],
   "source": [
    "# Finding out in wich city (including remote work) it's possible to round up the whole team, while minimizing the cost of hiring\n",
    " \n",
    "df_grouped = df.groupby(['location_city', 'job'])['salary_average'].min().reset_index(name='min_salary')\n",
    "min_cost = df['salary_average'].max()\n",
    "\n",
    "for city in df_grouped['location_city'].unique():\n",
    "    num_of_jobs = df_grouped.loc[df_grouped['location_city'] == city]['job'].count()\n",
    "    cost = df_grouped.loc[df_grouped['location_city'] == city]['min_salary'].sum()\n",
    "    \n",
    "    if num_of_jobs == 3 and cost < min_cost:\n",
    "        min_cost = cost\n",
    "        location = city\n",
    "    else:\n",
    "        cost = None\n",
    "        \n",
    "if cost:\n",
    "    print(\"It's not possible to round up the whole team in one city\")\n",
    "else:\n",
    "    print(f\"The cost of hiring the whole team in {location}: {min_cost}\")\n"
   ]
  }
 ],
 "metadata": {
  "kernelspec": {
   "display_name": "Python 3",
   "language": "python",
   "name": "python3"
  },
  "language_info": {
   "codemirror_mode": {
    "name": "ipython",
    "version": 3
   },
   "file_extension": ".py",
   "mimetype": "text/x-python",
   "name": "python",
   "nbconvert_exporter": "python",
   "pygments_lexer": "ipython3",
   "version": "3.8.8"
  }
 },
 "nbformat": 4,
 "nbformat_minor": 5
}

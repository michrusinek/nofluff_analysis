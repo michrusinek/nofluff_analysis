{
 "cells": [
  {
   "cell_type": "code",
   "execution_count": 1,
   "id": "f7eb0135",
   "metadata": {},
   "outputs": [],
   "source": [
    "import pandas as pd\n",
    "import matplotlib.pyplot as plt\n",
    "import numpy as np\n",
    "from ipynb.fs.defs.webscraping import Paths\n",
    "from datetime import datetime"
   ]
  },
  {
   "cell_type": "code",
   "execution_count": 2,
   "id": "aad813a8",
   "metadata": {},
   "outputs": [
    {
     "data": {
      "text/html": [
       "<div>\n",
       "<style scoped>\n",
       "    .dataframe tbody tr th:only-of-type {\n",
       "        vertical-align: middle;\n",
       "    }\n",
       "\n",
       "    .dataframe tbody tr th {\n",
       "        vertical-align: top;\n",
       "    }\n",
       "\n",
       "    .dataframe thead th {\n",
       "        text-align: right;\n",
       "    }\n",
       "</style>\n",
       "<table border=\"1\" class=\"dataframe\">\n",
       "  <thead>\n",
       "    <tr style=\"text-align: right;\">\n",
       "      <th></th>\n",
       "      <th>name</th>\n",
       "      <th>company</th>\n",
       "      <th>technology</th>\n",
       "      <th>job</th>\n",
       "      <th>location_city</th>\n",
       "      <th>location_country</th>\n",
       "      <th>salary_low</th>\n",
       "      <th>salary_high</th>\n",
       "      <th>salary_currency</th>\n",
       "      <th>salary_average</th>\n",
       "      <th>is_senior</th>\n",
       "    </tr>\n",
       "  </thead>\n",
       "  <tbody>\n",
       "    <tr>\n",
       "      <th>0</th>\n",
       "      <td>Data Analyst</td>\n",
       "      <td>FLYR Poland sp.z.o.o</td>\n",
       "      <td>SQL</td>\n",
       "      <td>data analyst</td>\n",
       "      <td>Kraków</td>\n",
       "      <td>POL</td>\n",
       "      <td>11 000</td>\n",
       "      <td>16 000</td>\n",
       "      <td>PLN</td>\n",
       "      <td>13500.0</td>\n",
       "      <td>False</td>\n",
       "    </tr>\n",
       "    <tr>\n",
       "      <th>1</th>\n",
       "      <td>Junior Data Analyst</td>\n",
       "      <td>Coinfirm</td>\n",
       "      <td>mysql</td>\n",
       "      <td>data analyst</td>\n",
       "      <td>Zdalna</td>\n",
       "      <td>NaN</td>\n",
       "      <td>3 000</td>\n",
       "      <td>5 000</td>\n",
       "      <td>PLN</td>\n",
       "      <td>4000.0</td>\n",
       "      <td>False</td>\n",
       "    </tr>\n",
       "    <tr>\n",
       "      <th>2</th>\n",
       "      <td>Junior Technical Product Manager</td>\n",
       "      <td>Scalaric</td>\n",
       "      <td>NaN</td>\n",
       "      <td>data analyst</td>\n",
       "      <td>Kraków</td>\n",
       "      <td>POL</td>\n",
       "      <td>5 000</td>\n",
       "      <td>10 000</td>\n",
       "      <td>PLN</td>\n",
       "      <td>7500.0</td>\n",
       "      <td>False</td>\n",
       "    </tr>\n",
       "    <tr>\n",
       "      <th>3</th>\n",
       "      <td>Business System Analyst (Data&amp;Analytics)</td>\n",
       "      <td>Elitmind</td>\n",
       "      <td>NaN</td>\n",
       "      <td>data analyst</td>\n",
       "      <td>Zdalna</td>\n",
       "      <td>NaN</td>\n",
       "      <td>15 000</td>\n",
       "      <td>21 000</td>\n",
       "      <td>PLN</td>\n",
       "      <td>18000.0</td>\n",
       "      <td>False</td>\n",
       "    </tr>\n",
       "    <tr>\n",
       "      <th>4</th>\n",
       "      <td>Data analyst (analityk danych)</td>\n",
       "      <td>Alterdata.io sp. z o.o.</td>\n",
       "      <td>NaN</td>\n",
       "      <td>data analyst</td>\n",
       "      <td>Zdalna</td>\n",
       "      <td>NaN</td>\n",
       "      <td>12 000</td>\n",
       "      <td>21 000</td>\n",
       "      <td>PLN</td>\n",
       "      <td>16500.0</td>\n",
       "      <td>False</td>\n",
       "    </tr>\n",
       "    <tr>\n",
       "      <th>...</th>\n",
       "      <td>...</td>\n",
       "      <td>...</td>\n",
       "      <td>...</td>\n",
       "      <td>...</td>\n",
       "      <td>...</td>\n",
       "      <td>...</td>\n",
       "      <td>...</td>\n",
       "      <td>...</td>\n",
       "      <td>...</td>\n",
       "      <td>...</td>\n",
       "      <td>...</td>\n",
       "    </tr>\n",
       "    <tr>\n",
       "      <th>134</th>\n",
       "      <td>Data Scientist</td>\n",
       "      <td>Simon - Kucher &amp; Partners</td>\n",
       "      <td>NaN</td>\n",
       "      <td>data scientist</td>\n",
       "      <td>Zdalna</td>\n",
       "      <td>NaN</td>\n",
       "      <td>13 000</td>\n",
       "      <td>15 000</td>\n",
       "      <td>PLN</td>\n",
       "      <td>14000.0</td>\n",
       "      <td>False</td>\n",
       "    </tr>\n",
       "    <tr>\n",
       "      <th>135</th>\n",
       "      <td>Senior Data Scientist</td>\n",
       "      <td>Relayr</td>\n",
       "      <td>python</td>\n",
       "      <td>data scientist</td>\n",
       "      <td>Katowice</td>\n",
       "      <td>POL</td>\n",
       "      <td>21 000</td>\n",
       "      <td>24 000</td>\n",
       "      <td>PLN</td>\n",
       "      <td>22500.0</td>\n",
       "      <td>True</td>\n",
       "    </tr>\n",
       "    <tr>\n",
       "      <th>136</th>\n",
       "      <td>Senior Data Scientist</td>\n",
       "      <td>hubQuest</td>\n",
       "      <td>python</td>\n",
       "      <td>data scientist</td>\n",
       "      <td>Zdalna</td>\n",
       "      <td>NaN</td>\n",
       "      <td>25 000</td>\n",
       "      <td>34 000</td>\n",
       "      <td>PLN</td>\n",
       "      <td>29500.0</td>\n",
       "      <td>True</td>\n",
       "    </tr>\n",
       "    <tr>\n",
       "      <th>137</th>\n",
       "      <td>Data Scientist</td>\n",
       "      <td>Avanade Poland</td>\n",
       "      <td>python</td>\n",
       "      <td>data scientist</td>\n",
       "      <td>Warszawa</td>\n",
       "      <td>POL</td>\n",
       "      <td>15 000</td>\n",
       "      <td>25 000</td>\n",
       "      <td>PLN</td>\n",
       "      <td>20000.0</td>\n",
       "      <td>False</td>\n",
       "    </tr>\n",
       "    <tr>\n",
       "      <th>138</th>\n",
       "      <td>Senior Data Scientist</td>\n",
       "      <td>Cursor Insight</td>\n",
       "      <td>python</td>\n",
       "      <td>data scientist</td>\n",
       "      <td>Zdalna</td>\n",
       "      <td>NaN</td>\n",
       "      <td>9 000</td>\n",
       "      <td>18 000</td>\n",
       "      <td>PLN</td>\n",
       "      <td>13500.0</td>\n",
       "      <td>True</td>\n",
       "    </tr>\n",
       "  </tbody>\n",
       "</table>\n",
       "<p>139 rows × 11 columns</p>\n",
       "</div>"
      ],
      "text/plain": [
       "                                         name                    company  \\\n",
       "0                                Data Analyst       FLYR Poland sp.z.o.o   \n",
       "1                         Junior Data Analyst                   Coinfirm   \n",
       "2            Junior Technical Product Manager                   Scalaric   \n",
       "3    Business System Analyst (Data&Analytics)                   Elitmind   \n",
       "4              Data analyst (analityk danych)    Alterdata.io sp. z o.o.   \n",
       "..                                        ...                        ...   \n",
       "134                            Data Scientist  Simon - Kucher & Partners   \n",
       "135                     Senior Data Scientist                     Relayr   \n",
       "136                     Senior Data Scientist                   hubQuest   \n",
       "137                            Data Scientist             Avanade Poland   \n",
       "138                     Senior Data Scientist             Cursor Insight   \n",
       "\n",
       "    technology             job location_city location_country salary_low  \\\n",
       "0          SQL    data analyst        Kraków              POL     11 000   \n",
       "1        mysql    data analyst        Zdalna              NaN      3 000   \n",
       "2          NaN    data analyst        Kraków              POL      5 000   \n",
       "3          NaN    data analyst        Zdalna              NaN     15 000   \n",
       "4          NaN    data analyst        Zdalna              NaN     12 000   \n",
       "..         ...             ...           ...              ...        ...   \n",
       "134        NaN  data scientist        Zdalna              NaN     13 000   \n",
       "135     python  data scientist      Katowice              POL     21 000   \n",
       "136     python  data scientist        Zdalna              NaN     25 000   \n",
       "137     python  data scientist      Warszawa              POL     15 000   \n",
       "138     python  data scientist        Zdalna              NaN      9 000   \n",
       "\n",
       "    salary_high salary_currency  salary_average  is_senior  \n",
       "0        16 000             PLN         13500.0      False  \n",
       "1         5 000             PLN          4000.0      False  \n",
       "2        10 000             PLN          7500.0      False  \n",
       "3        21 000             PLN         18000.0      False  \n",
       "4        21 000             PLN         16500.0      False  \n",
       "..          ...             ...             ...        ...  \n",
       "134      15 000             PLN         14000.0      False  \n",
       "135      24 000             PLN         22500.0       True  \n",
       "136      34 000             PLN         29500.0       True  \n",
       "137      25 000             PLN         20000.0      False  \n",
       "138      18 000             PLN         13500.0       True  \n",
       "\n",
       "[139 rows x 11 columns]"
      ]
     },
     "execution_count": 2,
     "metadata": {},
     "output_type": "execute_result"
    }
   ],
   "source": [
    "df = pd.read_csv(\n",
    "    fr'{Paths.data_processed}\\job_offers_{datetime.today().strftime(\"%d-%m-%Y\")}.csv',\n",
    "    sep=';',\n",
    "    encoding='utf-8',\n",
    ")\n",
    "df"
   ]
  },
  {
   "cell_type": "markdown",
   "id": "8fdea99a",
   "metadata": {},
   "source": [
    "### Exploring and analysing the data"
   ]
  },
  {
   "cell_type": "code",
   "execution_count": 3,
   "id": "8b2d38e3",
   "metadata": {},
   "outputs": [
    {
     "data": {
      "text/plain": [
       "job\n",
       "data analyst      27\n",
       "data engineer     84\n",
       "data scientist    28\n",
       "dtype: int64"
      ]
     },
     "execution_count": 3,
     "metadata": {},
     "output_type": "execute_result"
    }
   ],
   "source": [
    "df.groupby(by='job').size()"
   ]
  },
  {
   "cell_type": "code",
   "execution_count": 4,
   "id": "b4e5d580",
   "metadata": {},
   "outputs": [],
   "source": [
    "job_count = df['job'].value_counts()\n",
    "job_titles = df['job'].value_counts().index"
   ]
  },
  {
   "cell_type": "markdown",
   "id": "a8dd2bc5",
   "metadata": {},
   "source": [
    "**Number of jobs found for each search query**"
   ]
  },
  {
   "cell_type": "code",
   "execution_count": 109,
   "id": "6e0e7688",
   "metadata": {},
   "outputs": [
    {
     "data": {
      "image/png": "[encoded data removed]",
      "text/plain": [
       "<Figure size 720x720 with 1 Axes>"
      ]
     },
     "metadata": {
      "needs_background": "light"
     },
     "output_type": "display_data"
    }
   ],
   "source": [
    "plt.figure(figsize=(10, 10))\n",
    "\n",
    "plt.bar(job_titles, job_count)\n",
    "plt.title('Number of jobs found for each search query')\n",
    "\n",
    "for elem in range(len(job_titles)):\n",
    "    plt.text(elem, job_count[elem] + 1, job_count[elem], va='center', ha='center', size='large')\n",
    "\n",
    "plt.show()"
   ]
  },
  {
   "cell_type": "markdown",
   "id": "a950bc9b",
   "metadata": {},
   "source": [
    "**Average salary for each search query**"
   ]
  },
  {
   "cell_type": "code",
   "execution_count": 13,
   "id": "2507401d",
   "metadata": {},
   "outputs": [
    {
     "data": {
      "image/png": "[encoded data removed]",
      "text/plain": [
       "<Figure size 720x720 with 1 Axes>"
      ]
     },
     "metadata": {
      "needs_background": "light"
     },
     "output_type": "display_data"
    }
   ],
   "source": [
    "avg_salaries = {}\n",
    "df_grouped = df.groupby('job')\n",
    "\n",
    "for key in df_grouped.groups.keys():\n",
    "    avg_salaries[key] = round(df_grouped.get_group(key)['salary_average'].mean())\n",
    "\n",
    "plt.figure(figsize=(10, 10))\n",
    "plt.bar(avg_salaries.keys(), avg_salaries.values())\n",
    "plt.title('Average salary for each search query')\n",
    "\n",
    "for key, value in avg_salaries.items():\n",
    "    plt.text(key, value+200, value, va='center', ha='center', size='large')\n",
    "    \n",
    "plt.show()"
   ]
  },
  {
   "cell_type": "markdown",
   "id": "c583a34d",
   "metadata": {},
   "source": [
    "**Number of offers in each city (including remote work)**"
   ]
  },
  {
   "cell_type": "code",
   "execution_count": 6,
   "id": "7d88d312",
   "metadata": {},
   "outputs": [
    {
     "data": {
      "image/png": "[encoded data removed]",
      "text/plain": [
       "<Figure size 720x720 with 1 Axes>"
      ]
     },
     "metadata": {
      "needs_background": "light"
     },
     "output_type": "display_data"
    }
   ],
   "source": [
    "offers_count = df['location_city'].value_counts()\n",
    "cities = df['location_city'].value_counts().index\n",
    "\n",
    "plt.figure(figsize=(10, 10))\n",
    "\n",
    "plt.bar(cities, offers_count)\n",
    "plt.title(r'Number of offers in each city (including remote work)')\n",
    "\n",
    "for elem in range(len(cities)):\n",
    "    plt.text(elem, offers_count[elem] + 1, offers_count[elem], va='center', ha='center', size='large')\n",
    "\n",
    "plt.show()"
   ]
  },
  {
   "cell_type": "markdown",
   "id": "45203d2f",
   "metadata": {},
   "source": [
    "**Finding the highest salaries**"
   ]
  },
  {
   "cell_type": "code",
   "execution_count": 8,
   "id": "20ea234e",
   "metadata": {},
   "outputs": [
    {
     "data": {
      "image/png": "[encoded data removed]",
      "text/plain": [
       "<Figure size 1440x720 with 1 Axes>"
      ]
     },
     "metadata": {
      "needs_background": "light"
     },
     "output_type": "display_data"
    }
   ],
   "source": [
    "df_sorted = df.sort_values('salary_average', ascending=False)\n",
    "df_highest_salaries = df_sorted.head(10)\n",
    "companies = df_highest_salaries['company'].unique()\n",
    "salaries = df_highest_salaries['salary_average'].unique()\n",
    "\n",
    "plt.figure(figsize=(20, 10))\n",
    "\n",
    "plt.bar(companies, salaries, align='center', width=0.3)\n",
    "plt.title('Top 10 highest salaries')\n",
    "\n",
    "for elem in range(salaries.shape[0]):\n",
    "    plt.text(companies[elem], salaries[elem]+500, salaries[elem], va='center', ha='center', size='large')\n",
    "\n",
    "plt.show()"
   ]
  },
  {
   "cell_type": "markdown",
   "id": "9e45d450",
   "metadata": {},
   "source": [
    "**Difference in salary between senior job titles and regular job titles in each job category**"
   ]
  },
  {
   "cell_type": "code",
   "execution_count": 9,
   "id": "8060d3e3",
   "metadata": {},
   "outputs": [
    {
     "data": {
      "image/png": "[encoded data removed]",
      "text/plain": [
       "<Figure size 1080x720 with 1 Axes>"
      ]
     },
     "metadata": {
      "needs_background": "light"
     },
     "output_type": "display_data"
    }
   ],
   "source": [
    "df_grouped_by_job = df.groupby(['job', 'is_senior'])\n",
    "senior_avg_salaries = {}\n",
    "non_senior_avg_salaries = {}\n",
    "\n",
    "for (job, is_senior) in df_grouped_by_job.groups.keys():\n",
    "    if is_senior:\n",
    "        senior_avg_salaries[job] = df_grouped_by_job.get_group((job, is_senior))['salary_average'].mean()\n",
    "    else:\n",
    "        non_senior_avg_salaries[job] = df_grouped_by_job.get_group((job, is_senior))['salary_average'].mean()\n",
    "\n",
    "x = np.array(range(len(senior_avg_salaries.keys())))\n",
    "y_senior = np.array(list(senior_avg_salaries.values()))\n",
    "y_non_senior = np.array(list(non_senior_avg_salaries.values()))\n",
    "\n",
    "plt.figure(figsize=(15, 10))\n",
    "ax = plt.subplot(111)\n",
    "ax.bar(\n",
    "    x-0.1, \n",
    "    y_senior,\n",
    "    width = 0.2,\n",
    "    label='senior'\n",
    ")\n",
    "ax.bar(\n",
    "    x+0.1, \n",
    "    y_non_senior,\n",
    "    width = 0.2,\n",
    "    label='regular',\n",
    ")\n",
    "\n",
    "for i in range(len(senior_avg_salaries.keys())):\n",
    "    plt.text(i-0.1, y_senior[i]+200, round(y_senior[i]), va='center', ha='center')\n",
    "    plt.text(i+0.1, y_non_senior[i]+200, round(y_non_senior[i]), va='center', ha='center')\n",
    "\n",
    "plt.xticks(range(3), list(df['job'].unique()))\n",
    "plt.legend()\n",
    "plt.title('Difference in average salary between senior job titles and regular job titles in each job category')\n",
    "\n",
    "plt.show()"
   ]
  },
  {
   "cell_type": "markdown",
   "id": "c4a9c865",
   "metadata": {},
   "source": [
    "**Rounding up a team consisting of data analyst, data engineer and data scientist, while minimizng the cost of hiring them**"
   ]
  },
  {
   "cell_type": "code",
   "execution_count": 10,
   "id": "cb2b8468",
   "metadata": {},
   "outputs": [
    {
     "name": "stdout",
     "output_type": "stream",
     "text": [
      "Minimal cost of hiring a team consisting of data analyst, data engineer and data scientist: 13500.0 PLN\n"
     ]
    }
   ],
   "source": [
    "cost = df.groupby('job')['salary_average'].min().sum()\n",
    "\n",
    "print(f\"Minimal cost of hiring a team consisting of data analyst, data engineer and data scientist: {cost} PLN\")"
   ]
  },
  {
   "cell_type": "markdown",
   "id": "5d6eccda",
   "metadata": {},
   "source": [
    "**Finding out in wich city (including remote work) it's possible to round up the whole team, while minimizing the cost of hiring**"
   ]
  },
  {
   "cell_type": "code",
   "execution_count": 12,
   "id": "d4cb04cf",
   "metadata": {},
   "outputs": [
    {
     "name": "stdout",
     "output_type": "stream",
     "text": [
      "The cost of hiring the whole team in Warszawa: 16000.0 PLN\n"
     ]
    }
   ],
   "source": [
    "df_grouped = df.groupby(['location_city', 'job'])['salary_average'].min().reset_index(name='min_salary')\n",
    "min_cost = df['salary_average'].max()\n",
    "\n",
    "for city in df_grouped['location_city'].unique():\n",
    "    num_of_jobs = df_grouped.loc[df_grouped['location_city'] == city]['job'].count()\n",
    "    cost = df_grouped.loc[df_grouped['location_city'] == city]['min_salary'].sum()\n",
    "    \n",
    "    if num_of_jobs == 3 and cost < min_cost:\n",
    "        min_cost = cost\n",
    "        location = city\n",
    "    else:\n",
    "        cost = None\n",
    "        \n",
    "if cost:\n",
    "    print(\"It's not possible to round up the whole team in one city\")\n",
    "else:\n",
    "    print(f\"The cost of hiring the whole team in {location}: {min_cost} PLN\")\n"
   ]
  }
 ],
 "metadata": {
  "kernelspec": {
   "display_name": "Python 3",
   "language": "python",
   "name": "python3"
  },
  "language_info": {
   "codemirror_mode": {
    "name": "ipython",
    "version": 3
   },
   "file_extension": ".py",
   "mimetype": "text/x-python",
   "name": "python",
   "nbconvert_exporter": "python",
   "pygments_lexer": "ipython3",
   "version": "3.8.8"
  }
 },
 "nbformat": 4,
 "nbformat_minor": 5
}

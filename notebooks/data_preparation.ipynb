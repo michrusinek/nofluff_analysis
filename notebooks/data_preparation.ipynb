{
 "cells": [
  {
   "cell_type": "code",
   "execution_count": 7,
   "id": "30e31d12",
   "metadata": {},
   "outputs": [],
   "source": [
    "import pandas as pd\n",
    "from ipynb.fs.defs.webscraping import Paths\n",
    "from datetime import datetime"
   ]
  },
  {
   "cell_type": "code",
   "execution_count": 17,
   "id": "f2be4dae",
   "metadata": {},
   "outputs": [
    {
     "data": {
      "text/html": [
       "<div>\n",
       "<style scoped>\n",
       "    .dataframe tbody tr th:only-of-type {\n",
       "        vertical-align: middle;\n",
       "    }\n",
       "\n",
       "    .dataframe tbody tr th {\n",
       "        vertical-align: top;\n",
       "    }\n",
       "\n",
       "    .dataframe thead th {\n",
       "        text-align: right;\n",
       "    }\n",
       "</style>\n",
       "<table border=\"1\" class=\"dataframe\">\n",
       "  <thead>\n",
       "    <tr style=\"text-align: right;\">\n",
       "      <th></th>\n",
       "      <th>name</th>\n",
       "      <th>company</th>\n",
       "      <th>technology</th>\n",
       "      <th>job</th>\n",
       "      <th>location_city</th>\n",
       "      <th>location_country</th>\n",
       "      <th>salary_low</th>\n",
       "      <th>salary_high</th>\n",
       "      <th>salary_currency</th>\n",
       "    </tr>\n",
       "  </thead>\n",
       "  <tbody>\n",
       "    <tr>\n",
       "      <th>0</th>\n",
       "      <td>Data Analyst</td>\n",
       "      <td>FLYR Poland sp.z.o.o</td>\n",
       "      <td>SQL</td>\n",
       "      <td>data analyst</td>\n",
       "      <td>Kraków</td>\n",
       "      <td>POL</td>\n",
       "      <td>11 000</td>\n",
       "      <td>16 000</td>\n",
       "      <td>PLN</td>\n",
       "    </tr>\n",
       "    <tr>\n",
       "      <th>1</th>\n",
       "      <td>Junior Data Analyst</td>\n",
       "      <td>Coinfirm</td>\n",
       "      <td>mysql</td>\n",
       "      <td>data analyst</td>\n",
       "      <td>Zdalna</td>\n",
       "      <td>NaN</td>\n",
       "      <td>3 000</td>\n",
       "      <td>5 000</td>\n",
       "      <td>PLN</td>\n",
       "    </tr>\n",
       "    <tr>\n",
       "      <th>2</th>\n",
       "      <td>Junior Technical Product Manager</td>\n",
       "      <td>Scalaric</td>\n",
       "      <td>NaN</td>\n",
       "      <td>data analyst</td>\n",
       "      <td>Kraków</td>\n",
       "      <td>POL</td>\n",
       "      <td>5 000</td>\n",
       "      <td>10 000</td>\n",
       "      <td>PLN</td>\n",
       "    </tr>\n",
       "    <tr>\n",
       "      <th>3</th>\n",
       "      <td>Business System Analyst (Data&amp;Analytics)</td>\n",
       "      <td>Elitmind</td>\n",
       "      <td>NaN</td>\n",
       "      <td>data analyst</td>\n",
       "      <td>Zdalna</td>\n",
       "      <td>NaN</td>\n",
       "      <td>15 000</td>\n",
       "      <td>21 000</td>\n",
       "      <td>PLN</td>\n",
       "    </tr>\n",
       "    <tr>\n",
       "      <th>4</th>\n",
       "      <td>Data analyst (analityk danych)</td>\n",
       "      <td>Alterdata.io sp. z o.o.</td>\n",
       "      <td>NaN</td>\n",
       "      <td>data analyst</td>\n",
       "      <td>Zdalna</td>\n",
       "      <td>NaN</td>\n",
       "      <td>12 000</td>\n",
       "      <td>21 000</td>\n",
       "      <td>PLN</td>\n",
       "    </tr>\n",
       "  </tbody>\n",
       "</table>\n",
       "</div>"
      ],
      "text/plain": [
       "                                       name                  company  \\\n",
       "0                              Data Analyst     FLYR Poland sp.z.o.o   \n",
       "1                       Junior Data Analyst                 Coinfirm   \n",
       "2          Junior Technical Product Manager                 Scalaric   \n",
       "3  Business System Analyst (Data&Analytics)                 Elitmind   \n",
       "4            Data analyst (analityk danych)  Alterdata.io sp. z o.o.   \n",
       "\n",
       "  technology           job location_city location_country salary_low  \\\n",
       "0        SQL  data analyst        Kraków              POL     11 000   \n",
       "1      mysql  data analyst        Zdalna              NaN      3 000   \n",
       "2        NaN  data analyst        Kraków              POL      5 000   \n",
       "3        NaN  data analyst        Zdalna              NaN     15 000   \n",
       "4        NaN  data analyst        Zdalna              NaN     12 000   \n",
       "\n",
       "  salary_high salary_currency  \n",
       "0      16 000             PLN  \n",
       "1       5 000             PLN  \n",
       "2      10 000             PLN  \n",
       "3      21 000             PLN  \n",
       "4      21 000             PLN  "
      ]
     },
     "execution_count": 17,
     "metadata": {},
     "output_type": "execute_result"
    }
   ],
   "source": [
    "df = pd.read_csv(\n",
    "    fr'{Paths.data_interim}\\job_offers_{datetime.today().strftime(\"%d-%m-%Y\")}.csv',\n",
    "    sep=';',\n",
    ")\n",
    "df.head()"
   ]
  },
  {
   "cell_type": "code",
   "execution_count": 18,
   "id": "b872b8ad",
   "metadata": {},
   "outputs": [
    {
     "name": "stdout",
     "output_type": "stream",
     "text": [
      "<class 'pandas.core.frame.DataFrame'>\n",
      "RangeIndex: 146 entries, 0 to 145\n",
      "Data columns (total 9 columns):\n",
      " #   Column            Non-Null Count  Dtype \n",
      "---  ------            --------------  ----- \n",
      " 0   name              146 non-null    object\n",
      " 1   company           146 non-null    object\n",
      " 2   technology        85 non-null     object\n",
      " 3   job               146 non-null    object\n",
      " 4   location_city     146 non-null    object\n",
      " 5   location_country  41 non-null     object\n",
      " 6   salary_low        146 non-null    object\n",
      " 7   salary_high       139 non-null    object\n",
      " 8   salary_currency   139 non-null    object\n",
      "dtypes: object(9)\n",
      "memory usage: 10.4+ KB\n"
     ]
    }
   ],
   "source": [
    "df.info()"
   ]
  },
  {
   "cell_type": "markdown",
   "id": "1bbf9047",
   "metadata": {},
   "source": [
    "### Preparing the data for an analysis"
   ]
  },
  {
   "cell_type": "code",
   "execution_count": 19,
   "id": "ceefbd9a",
   "metadata": {},
   "outputs": [],
   "source": [
    "df = df[df['salary_currency'].notna()]"
   ]
  },
  {
   "cell_type": "code",
   "execution_count": 20,
   "id": "c1239cf8",
   "metadata": {},
   "outputs": [
    {
     "data": {
      "text/html": [
       "<div>\n",
       "<style scoped>\n",
       "    .dataframe tbody tr th:only-of-type {\n",
       "        vertical-align: middle;\n",
       "    }\n",
       "\n",
       "    .dataframe tbody tr th {\n",
       "        vertical-align: top;\n",
       "    }\n",
       "\n",
       "    .dataframe thead th {\n",
       "        text-align: right;\n",
       "    }\n",
       "</style>\n",
       "<table border=\"1\" class=\"dataframe\">\n",
       "  <thead>\n",
       "    <tr style=\"text-align: right;\">\n",
       "      <th></th>\n",
       "      <th>name</th>\n",
       "      <th>company</th>\n",
       "      <th>technology</th>\n",
       "      <th>job</th>\n",
       "      <th>location_city</th>\n",
       "      <th>location_country</th>\n",
       "      <th>salary_low</th>\n",
       "      <th>salary_high</th>\n",
       "      <th>salary_currency</th>\n",
       "    </tr>\n",
       "  </thead>\n",
       "  <tbody>\n",
       "    <tr>\n",
       "      <th>0</th>\n",
       "      <td>Data Analyst</td>\n",
       "      <td>FLYR Poland sp.z.o.o</td>\n",
       "      <td>SQL</td>\n",
       "      <td>data analyst</td>\n",
       "      <td>Kraków</td>\n",
       "      <td>POL</td>\n",
       "      <td>11 000</td>\n",
       "      <td>16 000</td>\n",
       "      <td>PLN</td>\n",
       "    </tr>\n",
       "    <tr>\n",
       "      <th>1</th>\n",
       "      <td>Junior Data Analyst</td>\n",
       "      <td>Coinfirm</td>\n",
       "      <td>mysql</td>\n",
       "      <td>data analyst</td>\n",
       "      <td>Zdalna</td>\n",
       "      <td>N/A</td>\n",
       "      <td>3 000</td>\n",
       "      <td>5 000</td>\n",
       "      <td>PLN</td>\n",
       "    </tr>\n",
       "    <tr>\n",
       "      <th>2</th>\n",
       "      <td>Junior Technical Product Manager</td>\n",
       "      <td>Scalaric</td>\n",
       "      <td>NaN</td>\n",
       "      <td>data analyst</td>\n",
       "      <td>Kraków</td>\n",
       "      <td>POL</td>\n",
       "      <td>5 000</td>\n",
       "      <td>10 000</td>\n",
       "      <td>PLN</td>\n",
       "    </tr>\n",
       "    <tr>\n",
       "      <th>3</th>\n",
       "      <td>Business System Analyst (Data&amp;Analytics)</td>\n",
       "      <td>Elitmind</td>\n",
       "      <td>NaN</td>\n",
       "      <td>data analyst</td>\n",
       "      <td>Zdalna</td>\n",
       "      <td>N/A</td>\n",
       "      <td>15 000</td>\n",
       "      <td>21 000</td>\n",
       "      <td>PLN</td>\n",
       "    </tr>\n",
       "    <tr>\n",
       "      <th>4</th>\n",
       "      <td>Data analyst (analityk danych)</td>\n",
       "      <td>Alterdata.io sp. z o.o.</td>\n",
       "      <td>NaN</td>\n",
       "      <td>data analyst</td>\n",
       "      <td>Zdalna</td>\n",
       "      <td>N/A</td>\n",
       "      <td>12 000</td>\n",
       "      <td>21 000</td>\n",
       "      <td>PLN</td>\n",
       "    </tr>\n",
       "    <tr>\n",
       "      <th>...</th>\n",
       "      <td>...</td>\n",
       "      <td>...</td>\n",
       "      <td>...</td>\n",
       "      <td>...</td>\n",
       "      <td>...</td>\n",
       "      <td>...</td>\n",
       "      <td>...</td>\n",
       "      <td>...</td>\n",
       "      <td>...</td>\n",
       "    </tr>\n",
       "    <tr>\n",
       "      <th>141</th>\n",
       "      <td>Data Scientist</td>\n",
       "      <td>Simon - Kucher &amp; Partners</td>\n",
       "      <td>NaN</td>\n",
       "      <td>data scientist</td>\n",
       "      <td>Zdalna</td>\n",
       "      <td>N/A</td>\n",
       "      <td>13 000</td>\n",
       "      <td>15 000</td>\n",
       "      <td>PLN</td>\n",
       "    </tr>\n",
       "    <tr>\n",
       "      <th>142</th>\n",
       "      <td>Senior Data Scientist</td>\n",
       "      <td>Relayr</td>\n",
       "      <td>python</td>\n",
       "      <td>data scientist</td>\n",
       "      <td>Katowice</td>\n",
       "      <td>POL\\n + 4</td>\n",
       "      <td>21 000</td>\n",
       "      <td>24 000</td>\n",
       "      <td>PLN</td>\n",
       "    </tr>\n",
       "    <tr>\n",
       "      <th>143</th>\n",
       "      <td>Senior Data Scientist</td>\n",
       "      <td>hubQuest</td>\n",
       "      <td>python</td>\n",
       "      <td>data scientist</td>\n",
       "      <td>Zdalna</td>\n",
       "      <td>N/A</td>\n",
       "      <td>25 000</td>\n",
       "      <td>34 000</td>\n",
       "      <td>PLN</td>\n",
       "    </tr>\n",
       "    <tr>\n",
       "      <th>144</th>\n",
       "      <td>Data Scientist</td>\n",
       "      <td>Avanade Poland</td>\n",
       "      <td>python</td>\n",
       "      <td>data scientist</td>\n",
       "      <td>Warszawa</td>\n",
       "      <td>POL\\n + 3</td>\n",
       "      <td>15 000</td>\n",
       "      <td>25 000</td>\n",
       "      <td>PLN</td>\n",
       "    </tr>\n",
       "    <tr>\n",
       "      <th>145</th>\n",
       "      <td>Senior Data Scientist</td>\n",
       "      <td>Cursor Insight</td>\n",
       "      <td>python</td>\n",
       "      <td>data scientist</td>\n",
       "      <td>Zdalna</td>\n",
       "      <td>N/A</td>\n",
       "      <td>9 000</td>\n",
       "      <td>18 000</td>\n",
       "      <td>PLN</td>\n",
       "    </tr>\n",
       "  </tbody>\n",
       "</table>\n",
       "<p>139 rows × 9 columns</p>\n",
       "</div>"
      ],
      "text/plain": [
       "                                         name                    company  \\\n",
       "0                                Data Analyst       FLYR Poland sp.z.o.o   \n",
       "1                         Junior Data Analyst                   Coinfirm   \n",
       "2            Junior Technical Product Manager                   Scalaric   \n",
       "3    Business System Analyst (Data&Analytics)                   Elitmind   \n",
       "4              Data analyst (analityk danych)    Alterdata.io sp. z o.o.   \n",
       "..                                        ...                        ...   \n",
       "141                            Data Scientist  Simon - Kucher & Partners   \n",
       "142                     Senior Data Scientist                     Relayr   \n",
       "143                     Senior Data Scientist                   hubQuest   \n",
       "144                            Data Scientist             Avanade Poland   \n",
       "145                     Senior Data Scientist             Cursor Insight   \n",
       "\n",
       "    technology             job location_city location_country salary_low  \\\n",
       "0          SQL    data analyst        Kraków              POL     11 000   \n",
       "1        mysql    data analyst        Zdalna              N/A      3 000   \n",
       "2          NaN    data analyst        Kraków              POL      5 000   \n",
       "3          NaN    data analyst        Zdalna              N/A     15 000   \n",
       "4          NaN    data analyst        Zdalna              N/A     12 000   \n",
       "..         ...             ...           ...              ...        ...   \n",
       "141        NaN  data scientist        Zdalna              N/A     13 000   \n",
       "142     python  data scientist      Katowice        POL\\n + 4     21 000   \n",
       "143     python  data scientist        Zdalna              N/A     25 000   \n",
       "144     python  data scientist      Warszawa        POL\\n + 3     15 000   \n",
       "145     python  data scientist        Zdalna              N/A      9 000   \n",
       "\n",
       "    salary_high salary_currency  \n",
       "0        16 000             PLN  \n",
       "1         5 000             PLN  \n",
       "2        10 000             PLN  \n",
       "3        21 000             PLN  \n",
       "4        21 000             PLN  \n",
       "..          ...             ...  \n",
       "141      15 000             PLN  \n",
       "142      24 000             PLN  \n",
       "143      34 000             PLN  \n",
       "144      25 000             PLN  \n",
       "145      18 000             PLN  \n",
       "\n",
       "[139 rows x 9 columns]"
      ]
     },
     "execution_count": 20,
     "metadata": {},
     "output_type": "execute_result"
    }
   ],
   "source": [
    "df.loc[df['location_country'].isnull(), 'location_country'] = 'N/A'\n",
    "df"
   ]
  },
  {
   "cell_type": "code",
   "execution_count": 22,
   "id": "871314a3",
   "metadata": {},
   "outputs": [
    {
     "data": {
      "text/plain": [
       "array(['POL', 'N/A', 'HUN\\n + 1', 'POL\\n + 4', 'POL\\n + 3', 'POL\\n + 1',\n",
       "       'HUN'], dtype=object)"
      ]
     },
     "execution_count": 22,
     "metadata": {},
     "output_type": "execute_result"
    }
   ],
   "source": [
    "df['location_country'].unique()"
   ]
  },
  {
   "cell_type": "code",
   "execution_count": 23,
   "id": "9132acd4",
   "metadata": {},
   "outputs": [
    {
     "data": {
      "text/plain": [
       "array(['POL', 'N/A', 'HUN'], dtype=object)"
      ]
     },
     "execution_count": 23,
     "metadata": {},
     "output_type": "execute_result"
    }
   ],
   "source": [
    "df.loc[\n",
    "    (df['location_country'] != 'POL') &\n",
    "    (df['location_country'] != 'HUN') &\n",
    "    (df['location_country'] != r'N/A'),\n",
    "    'location_country'\n",
    "     ] = 'POL'\n",
    "df['location_country'].unique()"
   ]
  },
  {
   "cell_type": "markdown",
   "id": "2b5097f0",
   "metadata": {},
   "source": [
    "**Converting salary columns to numeric values and adding a column containing the average salary**"
   ]
  },
  {
   "cell_type": "code",
   "execution_count": 24,
   "id": "a90d01bb",
   "metadata": {},
   "outputs": [],
   "source": [
    "dfcopy = df.copy()\n",
    "dfcopy['salary_low'] = pd.to_numeric(dfcopy['salary_low'].str.replace(\" \",\"\"))\n",
    "dfcopy['salary_high'] = pd.to_numeric(dfcopy['salary_high'].str.replace(\" \",\"\"))"
   ]
  },
  {
   "cell_type": "code",
   "execution_count": 25,
   "id": "456d9482",
   "metadata": {},
   "outputs": [],
   "source": [
    "dfcopy['salary_average'] = dfcopy[['salary_low', 'salary_high']].mean(axis=1)"
   ]
  },
  {
   "cell_type": "code",
   "execution_count": 26,
   "id": "5a1c3225",
   "metadata": {},
   "outputs": [],
   "source": [
    "df['salary_average'] = dfcopy['salary_average']"
   ]
  },
  {
   "cell_type": "markdown",
   "id": "855d8003",
   "metadata": {},
   "source": [
    "**Removing alternative names of the same city and adding a column determining wether a job offer is for a senior title**"
   ]
  },
  {
   "cell_type": "code",
   "execution_count": 27,
   "id": "a29c7c02",
   "metadata": {},
   "outputs": [
    {
     "data": {
      "text/plain": [
       "array(['Kraków', 'Zdalna', 'Gdynia', 'Warszawa', 'Warsaw', 'Budapest',\n",
       "       'Gdańsk', 'Wrocław', 'Poznań', 'Malbork', 'Łódź', 'Katowice'],\n",
       "      dtype=object)"
      ]
     },
     "execution_count": 27,
     "metadata": {},
     "output_type": "execute_result"
    }
   ],
   "source": [
    "df['location_city'].unique()"
   ]
  },
  {
   "cell_type": "code",
   "execution_count": 28,
   "id": "8292264d",
   "metadata": {},
   "outputs": [],
   "source": [
    "df.loc[df['location_city'] == 'Warsaw', 'location_city'] = 'Warszawa'\n",
    "df.loc[df['name'].str.contains(\"Senior\", case=False), 'is_senior'] = True\n",
    "df.loc[df['is_senior'].isnull(), 'is_senior'] = False"
   ]
  },
  {
   "cell_type": "markdown",
   "id": "532866a1",
   "metadata": {},
   "source": [
    "**Saving the prepared data**"
   ]
  },
  {
   "cell_type": "code",
   "execution_count": 29,
   "id": "516680db",
   "metadata": {},
   "outputs": [],
   "source": [
    "df.to_csv(\n",
    "    fr'{Paths.data_processed}\\job_offers_{datetime.today().strftime(\"%d-%m-%Y\")}.csv',\n",
    "    sep=';',\n",
    "    encoding='utf-8',\n",
    "    index=False\n",
    ")"
   ]
  }
 ],
 "metadata": {
  "kernelspec": {
   "display_name": "Python 3",
   "language": "python",
   "name": "python3"
  },
  "language_info": {
   "codemirror_mode": {
    "name": "ipython",
    "version": 3
   },
   "file_extension": ".py",
   "mimetype": "text/x-python",
   "name": "python",
   "nbconvert_exporter": "python",
   "pygments_lexer": "ipython3",
   "version": "3.8.8"
  }
 },
 "nbformat": 4,
 "nbformat_minor": 5
}
